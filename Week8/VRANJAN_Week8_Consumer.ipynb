{
 "cells": [
  {
   "cell_type": "code",
   "execution_count": 1,
   "id": "incredible-idaho",
   "metadata": {},
   "outputs": [],
   "source": [
    "# Course DSC 650 - Data Mining\n",
    "# Name - Vikas Ranjan\n",
    "# Assignment - Assignment 8 - Kafka Consumer"
   ]
  },
  {
   "cell_type": "code",
   "execution_count": 2,
   "id": "inside-nudist",
   "metadata": {},
   "outputs": [],
   "source": [
    "import json\n",
    "\n",
    "from kafka import KafkaConsumer"
   ]
  },
  {
   "cell_type": "markdown",
   "id": "friendly-consumer",
   "metadata": {},
   "source": [
    "### Configuration Parameters \n",
    "\n",
    "> **TODO:** Change the configuration prameters to the appropriate values for your setup."
   ]
  },
  {
   "cell_type": "code",
   "execution_count": 3,
   "id": "confirmed-haiti",
   "metadata": {},
   "outputs": [
    {
     "data": {
      "text/plain": [
       "{'bootstrap_servers': ['kafka.kafka.svc.cluster.local:9092'],\n",
       " 'first_name': 'Vikas',\n",
       " 'last_name': 'Ranjan',\n",
       " 'client_id': 'RanjanVikas',\n",
       " 'topic_prefix': 'RanjanVikas'}"
      ]
     },
     "execution_count": 3,
     "metadata": {},
     "output_type": "execute_result"
    }
   ],
   "source": [
    "config = dict(\n",
    "    bootstrap_servers=['kafka.kafka.svc.cluster.local:9092'],\n",
    "    first_name='Vikas',\n",
    "    last_name='Ranjan'\n",
    ")\n",
    "\n",
    "config['client_id'] = '{}{}'.format(\n",
    "    config['last_name'], \n",
    "    config['first_name']\n",
    ")\n",
    "config['topic_prefix'] = '{}{}'.format(\n",
    "    config['last_name'], \n",
    "    config['first_name']\n",
    ")\n",
    "\n",
    "config"
   ]
  },
  {
   "cell_type": "code",
   "execution_count": 4,
   "id": "compressed-width",
   "metadata": {},
   "outputs": [],
   "source": [
    "general_consumer = KafkaConsumer(\n",
    "    bootstrap_servers=config['bootstrap_servers']\n",
    ")"
   ]
  },
  {
   "cell_type": "markdown",
   "id": "separate-bedroom",
   "metadata": {},
   "source": [
    "List all topics you are currently allowed to view"
   ]
  },
  {
   "cell_type": "code",
   "execution_count": 5,
   "id": "amended-outdoors",
   "metadata": {},
   "outputs": [
    {
     "data": {
      "text/plain": [
       "{'AdamCurry-accelerations',\n",
       " 'AdamCurry-locations',\n",
       " 'AtmadjaRio-accelerations',\n",
       " 'AtmadjaRio-joined',\n",
       " 'AtmadjaRio-locations',\n",
       " 'AtmadjaRio-simple',\n",
       " 'AtmadjaRio-windowed',\n",
       " 'BranchJolene-accelerations',\n",
       " 'BranchJolene-locations',\n",
       " 'BriggsChris-acceleration',\n",
       " 'BriggsChris-accelerations',\n",
       " 'BriggsChris-locations',\n",
       " 'ByardMegan-accelerations',\n",
       " 'ByardMegan-locations',\n",
       " 'CorpuzCaleb-accelarations',\n",
       " 'CorpuzCaleb-accelerations',\n",
       " 'CorpuzCaleb-locations',\n",
       " 'CurryAdam-accelerations',\n",
       " 'CurryAdam-locations',\n",
       " 'DandaRama-accelerations',\n",
       " 'DandaRama-locations',\n",
       " 'DoeJohn-accelerations',\n",
       " 'DoeJohn-locations',\n",
       " 'DoeJohn-simple',\n",
       " 'DoeagerJohn-accelerations',\n",
       " 'DoeagerJohn-locations',\n",
       " 'EagerBrian-accelerations',\n",
       " 'EagerBrian-locations',\n",
       " 'EdmundsEvan-accelerations',\n",
       " 'EdmundsEvan-locations',\n",
       " 'FoxAndrea-accelerations',\n",
       " 'FoxAndrea-locations',\n",
       " 'HerbstreitSara-accelerations',\n",
       " 'HerbstreitSara-locations',\n",
       " 'IsmailJason-accelerations',\n",
       " 'IsmailJason-locations',\n",
       " 'LaRosaAnthony-accelerations',\n",
       " 'LaRosaAnthony-locations',\n",
       " 'LoydSam-accelerations',\n",
       " 'LoydSam-locations',\n",
       " 'LoydSam-simple',\n",
       " 'LoydSam-simple-1',\n",
       " 'MalenchikAli-locations',\n",
       " 'MedeirosCorinne-accelerations',\n",
       " 'MedeirosCorinne-locations',\n",
       " 'NagarajVinay-accelerations',\n",
       " 'NagarajVinay-locations',\n",
       " 'OkeOsmond-accelerations',\n",
       " 'OkeOsmond-locations',\n",
       " 'OmprakashSantosh-accelerations',\n",
       " 'OmprakashSantosh-locations',\n",
       " 'OpitzNeil-accelerations',\n",
       " 'OpitzNeil-df_to_json',\n",
       " 'OpitzNeil-locations',\n",
       " 'OpitzNeil-locations_data_json',\n",
       " 'OpitzNeil-locdata',\n",
       " 'PayneBarbara-accelerations',\n",
       " 'PayneBarbara-locations',\n",
       " 'RanjanVikas-accelerations',\n",
       " 'RanjanVikas-locations',\n",
       " 'RoyAvishek-accelerations',\n",
       " 'RoyAvishek-locations',\n",
       " 'SahaDisha-accelerations',\n",
       " 'SahaDisha-locations',\n",
       " 'SamLoyd-simple',\n",
       " 'SamLoyd-simple-1',\n",
       " 'SearsSamuel-accelerations',\n",
       " 'SearsSamuel-locations',\n",
       " 'SuryaBhushan-accelerations',\n",
       " 'SuryaBhushan-locations',\n",
       " 'test_this',\n",
       " 'testthis'}"
      ]
     },
     "execution_count": 5,
     "metadata": {},
     "output_type": "execute_result"
    }
   ],
   "source": [
    "general_consumer.topics()"
   ]
  },
  {
   "cell_type": "markdown",
   "id": "golden-dispatch",
   "metadata": {},
   "source": [
    "Close the consumer, waiting indefinitely for any needed cleanup."
   ]
  },
  {
   "cell_type": "code",
   "execution_count": 6,
   "id": "latest-recipe",
   "metadata": {},
   "outputs": [],
   "source": [
    "general_consumer.close()"
   ]
  },
  {
   "cell_type": "code",
   "execution_count": 7,
   "id": "numeric-species",
   "metadata": {},
   "outputs": [],
   "source": [
    "def create_kafka_consumer(topics, config=config):\n",
    "    bootstrap_servers = config['bootstrap_servers']\n",
    "    client_id = config['client_id']\n",
    "    topic_prefix = config['topic_prefix']    \n",
    "    topic_list = ['{}-{}'.format(topic_prefix, topic) for topic in topics]\n",
    "    \n",
    "    return KafkaConsumer(\n",
    "        *topic_list,\n",
    "        client_id=client_id,\n",
    "        bootstrap_servers=bootstrap_servers,\n",
    "        auto_offset_reset='earliest',\n",
    "        enable_auto_commit=False,\n",
    "        value_deserializer=lambda x: json.loads(x)\n",
    "    )\n",
    "\n",
    "consumer = create_kafka_consumer(['locations', 'accelerations'])"
   ]
  },
  {
   "cell_type": "markdown",
   "id": "laden-criticism",
   "metadata": {},
   "source": [
    "Gets a list of this consumer's current subscriptions"
   ]
  },
  {
   "cell_type": "code",
   "execution_count": 8,
   "id": "rising-yorkshire",
   "metadata": {},
   "outputs": [
    {
     "data": {
      "text/plain": [
       "{'RanjanVikas-accelerations', 'RanjanVikas-locations'}"
      ]
     },
     "execution_count": 8,
     "metadata": {},
     "output_type": "execute_result"
    }
   ],
   "source": [
    "consumer.subscription()"
   ]
  },
  {
   "cell_type": "markdown",
   "id": "occupied-penny",
   "metadata": {},
   "source": [
    "The following function prints messages from the current consumer subscriptions. It will continue until manually stopped."
   ]
  },
  {
   "cell_type": "code",
   "execution_count": 9,
   "id": "studied-rebate",
   "metadata": {},
   "outputs": [
    {
     "name": "stdout",
     "output_type": "stream",
     "text": [
      "Message metadata:\n",
      "  Topic: RanjanVikas-accelerations\n",
      "  Partition: 0\n",
      "  Offset: 0\n",
      "Message Key: 4ded78fff8144b1994812bb8af150b6a\n",
      "Message Value:\n",
      "  {\n",
      "    \"key1\": \"value1\",\n",
      "    \"key2\": \"value2\"\n",
      "  }\n",
      "\n",
      "Message metadata:\n",
      "  Topic: RanjanVikas-locations\n",
      "  Partition: 0\n",
      "  Offset: 0\n",
      "Message Key: ed2b2b425cc8408994b3c92173657513\n",
      "Message Value:\n",
      "  {\n",
      "    \"key1\": \"value1\",\n",
      "    \"key2\": \"value2\"\n",
      "  }\n",
      "\n",
      "STOPPING MESSAGE CONSUMER\n"
     ]
    }
   ],
   "source": [
    "def print_messages(consumer=consumer):\n",
    "    try:\n",
    "        for message in consumer:\n",
    "                msg_metadata = 'Message metadata: {}:{}:{}'.format(\n",
    "                    message.topic, message.partition, message.offset\n",
    "                )\n",
    "\n",
    "                if message.key is not None:\n",
    "                    msg_key = message.key.decode('utf-8')\n",
    "                else:\n",
    "                    msg_key = ''\n",
    "                msg_value = json.dumps(message.value, indent=2)\n",
    "                msg_value = '\\n'.join(['  {}'.format(value) for value in msg_value.split('\\n')])\n",
    "\n",
    "                print('Message metadata:')\n",
    "                print('  Topic: {}'.format(message.topic))\n",
    "                print('  Partition: {}'.format(message.partition))\n",
    "                print('  Offset: {}'.format(message.offset))\n",
    "                print('Message Key: {}'.format(msg_key))\n",
    "                print('Message Value:')\n",
    "                print(msg_value)\n",
    "                print()\n",
    "    except KeyboardInterrupt:\n",
    "        print(\"STOPPING MESSAGE CONSUMER\")\n",
    "        \n",
    "print_messages()"
   ]
  },
  {
   "cell_type": "markdown",
   "id": "french-windsor",
   "metadata": {},
   "source": [
    "Close the consumer, waiting indefinitely for any needed cleanup."
   ]
  },
  {
   "cell_type": "code",
   "execution_count": 10,
   "id": "weighted-information",
   "metadata": {},
   "outputs": [],
   "source": [
    "consumer.close()"
   ]
  },
  {
   "cell_type": "code",
   "execution_count": null,
   "id": "freelance-switzerland",
   "metadata": {},
   "outputs": [],
   "source": []
  },
  {
   "cell_type": "code",
   "execution_count": null,
   "id": "obvious-island",
   "metadata": {},
   "outputs": [],
   "source": []
  }
 ],
 "metadata": {
  "kernelspec": {
   "display_name": "Python 3",
   "language": "python",
   "name": "python3"
  },
  "language_info": {
   "codemirror_mode": {
    "name": "ipython",
    "version": 3
   },
   "file_extension": ".py",
   "mimetype": "text/x-python",
   "name": "python",
   "nbconvert_exporter": "python",
   "pygments_lexer": "ipython3",
   "version": "3.8.8"
  }
 },
 "nbformat": 4,
 "nbformat_minor": 5
}
